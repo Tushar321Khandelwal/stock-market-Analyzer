{
 "cells": [
  {
   "cell_type": "code",
   "execution_count": 67,
   "metadata": {},
   "outputs": [],
   "source": [
    "import pandas as pd\n",
    "import numpy as np\n",
    "import matplotlib.pyplot as plt\n",
    "import seaborn as sns\n",
    "import time\n",
    "import pprint\n",
    "import json\n",
    "from contextlib import contextmanager"
   ]
  },
  {
   "cell_type": "code",
   "execution_count": 68,
   "metadata": {},
   "outputs": [],
   "source": [
    "\n",
    "# Custom decorator for timing\n",
    "def timing_decorator(func):\n",
    "    def wrapper(*args, **kwargs):\n",
    "        start_time = time.time()\n",
    "        result = func(*args, **kwargs)\n",
    "        end_time = time.time()\n",
    "        print(f\"Execution time for {func.__name__}: {end_time - start_time:.4f} seconds\")\n",
    "        return result\n",
    "    return wrapper\n",
    "\n",
    "\n",
    "# Load data function\n",
    "@timing_decorator\n",
    "def load_data(filepath):\n",
    "    with file_handler(filepath, 'r') as file:\n",
    "        df = pd.read_csv(file)\n",
    "    return df"
   ]
  },
  {
   "cell_type": "code",
   "execution_count": 69,
   "metadata": {},
   "outputs": [],
   "source": [
    "\n",
    "# Preprocessing data\n",
    "@timing_decorator\n",
    "def preprocess_data(df):\n",
    "    \n",
    "    df.fillna(method='ffill', inplace=True)\n",
    "    df.drop_duplicates(inplace=True)  # Remove duplicates\n",
    "    return df\n"
   ]
  },
  {
   "cell_type": "code",
   "execution_count": 70,
   "metadata": {},
   "outputs": [],
   "source": [
    "# Feature engineering\n",
    "@timing_decorator\n",
    "def compute_features(df):\n",
    "    if {'Open', 'Close'}.issubset(df.columns):\n",
    "        df['Daily Return'] = (df['Close'] - df['Open']) / df['Open'] * 100\n",
    "    if 'Close' in df.columns:\n",
    "        df['Moving Avg (7-day)'] = df['Close'].rolling(window=7).mean()\n",
    "    return df\n"
   ]
  },
  {
   "cell_type": "code",
   "execution_count": 71,
   "metadata": {},
   "outputs": [],
   "source": [
    "\n",
    "\n",
    "# Visualization functions\n",
    "@timing_decorator\n",
    "def plot_closing_price(df):\n",
    "    plt.figure(figsize=(12, 6))\n",
    "    sns.lineplot(x=df['Date'], y=df['Close'])\n",
    "    plt.title('Closing Price Trend')\n",
    "    plt.xlabel('Date')\n",
    "    plt.ylabel('Close Price')\n",
    "    plt.xticks(rotation=45)\n",
    "    plt.show()\n",
    "\n",
    "@timing_decorator\n",
    "def plot_correlation_heatmap(df):\n",
    "    plt.figure(figsize=(10, 6))\n",
    "    sns.heatmap(df.corr(), annot=True, cmap='coolwarm', fmt='.2f')\n",
    "    plt.title('Feature Correlation Heatmap')\n",
    "    plt.show()\n",
    "\n",
    "@timing_decorator\n",
    "def plot_daily_return_distribution(df):\n",
    "    plt.figure(figsize=(8, 5))\n",
    "    sns.histplot(df['Daily Return'], bins=30, kde=True)\n",
    "    plt.title('Distribution of Daily Returns')\n",
    "    plt.xlabel('Daily Return (%)')\n",
    "    plt.ylabel('Frequency')\n",
    "    plt.show()\n",
    "\n",
    "@timing_decorator\n",
    "def plot_most_traded_days(df):\n",
    "    if 'Shares Traded' in df.columns:\n",
    "        most_traded_days = df.nlargest(10, 'Shares Traded')\n",
    "        plt.figure(figsize=(12, 5))\n",
    "        plt.bar(most_traded_days['Date'], most_traded_days['Shares Traded'], color='green')\n",
    "        plt.xticks(rotation=45)\n",
    "        plt.xlabel(\"Date\")\n",
    "        plt.ylabel(\"Shares Traded\")\n",
    "        plt.title(\"Top 10 Most Traded Days\")\n",
    "        plt.show()\n",
    "        return most_traded_days[['Date', 'Shares Traded']].to_dict(orient='records')\n",
    "\n",
    "@timing_decorator\n",
    "def plot_least_performing_days(df):\n",
    "    if 'Daily Return' in df.columns:\n",
    "        least_performing_days = df.nsmallest(10, 'Daily Return')\n",
    "        plt.figure(figsize=(12, 5))\n",
    "        plt.bar(least_performing_days['Date'], least_performing_days['Daily Return'], color='red')\n",
    "        plt.xticks(rotation=45)\n",
    "        plt.xlabel(\"Date\")\n",
    "        plt.ylabel(\"Daily Return %\")\n",
    "        plt.title(\"Top 10 Least Performing Days\")\n",
    "        plt.show()\n",
    "        return least_performing_days[['Date', 'Daily Return']].to_dict(orient='records')\n"
   ]
  },
  {
   "cell_type": "code",
   "execution_count": 72,
   "metadata": {},
   "outputs": [],
   "source": [
    "def volatile_stocks(df):\n",
    "    if 'Date' in df.columns:\n",
    "        df['Date'] = pd.to_datetime(df['Date'])\n",
    "        \n",
    "    df.set_index('Date', inplace=True)\n",
    "    monthly_volatility = df['Daily Return'].resample('M').std()\n",
    "    print(monthly_volatility)\n",
    "    threshold = 0.58  # Adjust the threshold as needed\n",
    "    volatile_months = monthly_volatility > threshold\n",
    "    print(\"\\n--- Monthly Volatility Check ---\")\n",
    "    for month, is_volatile in volatile_months.items():\n",
    "        print(f\"Month: {month.strftime('%Y-%m')}, Volatile: {'Yes' if is_volatile else 'No'}\")\n",
    "    analysis_results = {\"Monthly Volatility\": volatile_months.to_dict(),\"Monthly Volatility Values\": monthly_volatility.tolist()}\n",
    "    print(\"\\n--- Analysis Results ---\")\n",
    "    for key, value in analysis_results.items():\n",
    "        print(f\"{key}: {value}\")"
   ]
  },
  {
   "cell_type": "code",
   "execution_count": null,
   "metadata": {},
   "outputs": [],
   "source": []
  },
  {
   "cell_type": "code",
   "execution_count": null,
   "metadata": {},
   "outputs": [],
   "source": []
  },
  {
   "cell_type": "code",
   "execution_count": null,
   "metadata": {},
   "outputs": [
    {
     "name": "stdout",
     "output_type": "stream",
     "text": [
      "Execution time for load_data: 0.0018 seconds\n",
      "Execution time for preprocess_data: 0.0011 seconds\n",
      "Execution time for compute_features: 0.0005 seconds\n"
     ]
    },
    {
     "name": "stderr",
     "output_type": "stream",
     "text": [
      "/var/folders/x0/47rgp04x7js6kj9sclly_60m0000gn/T/ipykernel_66503/785623846.py:5: FutureWarning: DataFrame.fillna with 'method' is deprecated and will raise in a future version. Use obj.ffill() or obj.bfill() instead.\n",
      "  df.fillna(method='ffill', inplace=True)\n"
     ]
    },
    {
     "ename": "ValueError",
     "evalue": "could not convert string to float: '30-Jul-24'",
     "output_type": "error",
     "traceback": [
      "\u001b[0;31m---------------------------------------------------------------------------\u001b[0m",
      "\u001b[0;31mValueError\u001b[0m                                Traceback (most recent call last)",
      "Cell \u001b[0;32mIn[73], line 13\u001b[0m\n\u001b[1;32m      8\u001b[0m df \u001b[38;5;241m=\u001b[39m compute_features(df)\n\u001b[1;32m     10\u001b[0m \u001b[38;5;66;03m# Store analysis results\u001b[39;00m\n\u001b[1;32m     11\u001b[0m analysis_results \u001b[38;5;241m=\u001b[39m {\n\u001b[1;32m     12\u001b[0m     \u001b[38;5;124m\"\u001b[39m\u001b[38;5;124mClosing Price Trend\u001b[39m\u001b[38;5;124m\"\u001b[39m: \u001b[38;5;28mlist\u001b[39m(\u001b[38;5;28mzip\u001b[39m(df[\u001b[38;5;124m'\u001b[39m\u001b[38;5;124mDate\u001b[39m\u001b[38;5;124m'\u001b[39m]\u001b[38;5;241m.\u001b[39mtolist(), df[\u001b[38;5;124m'\u001b[39m\u001b[38;5;124mClose\u001b[39m\u001b[38;5;124m'\u001b[39m]\u001b[38;5;241m.\u001b[39mtolist())),\n\u001b[0;32m---> 13\u001b[0m     \u001b[38;5;124m\"\u001b[39m\u001b[38;5;124mFeature Correlation Heatmap\u001b[39m\u001b[38;5;124m\"\u001b[39m: \u001b[43mdf\u001b[49m\u001b[38;5;241;43m.\u001b[39;49m\u001b[43mcorr\u001b[49m\u001b[43m(\u001b[49m\u001b[43m)\u001b[49m\u001b[38;5;241m.\u001b[39mto_dict(),\n\u001b[1;32m     14\u001b[0m     \u001b[38;5;124m\"\u001b[39m\u001b[38;5;124mDaily Return Distribution\u001b[39m\u001b[38;5;124m\"\u001b[39m: df[\u001b[38;5;124m'\u001b[39m\u001b[38;5;124mDaily Return\u001b[39m\u001b[38;5;124m'\u001b[39m]\u001b[38;5;241m.\u001b[39mtolist(),\n\u001b[1;32m     15\u001b[0m     \u001b[38;5;124m\"\u001b[39m\u001b[38;5;124mMost Traded Days\u001b[39m\u001b[38;5;124m\"\u001b[39m: plot_most_traded_days(df),\n\u001b[1;32m     16\u001b[0m     \u001b[38;5;124m\"\u001b[39m\u001b[38;5;124mLeast Performing Days\u001b[39m\u001b[38;5;124m\"\u001b[39m: plot_least_performing_days(df),\n\u001b[1;32m     17\u001b[0m     \u001b[38;5;124m\"\u001b[39m\u001b[38;5;124mMonths the Stock was Volatile\u001b[39m\u001b[38;5;124m\"\u001b[39m:volatile_stocks(df)\n\u001b[1;32m     18\u001b[0m }\n\u001b[1;32m     20\u001b[0m plot_closing_price(df)\n\u001b[1;32m     21\u001b[0m plot_correlation_heatmap(df)\n",
      "File \u001b[0;32m/Library/Frameworks/Python.framework/Versions/3.12/lib/python3.12/site-packages/pandas/core/frame.py:11049\u001b[0m, in \u001b[0;36mDataFrame.corr\u001b[0;34m(self, method, min_periods, numeric_only)\u001b[0m\n\u001b[1;32m  11047\u001b[0m cols \u001b[38;5;241m=\u001b[39m data\u001b[38;5;241m.\u001b[39mcolumns\n\u001b[1;32m  11048\u001b[0m idx \u001b[38;5;241m=\u001b[39m cols\u001b[38;5;241m.\u001b[39mcopy()\n\u001b[0;32m> 11049\u001b[0m mat \u001b[38;5;241m=\u001b[39m \u001b[43mdata\u001b[49m\u001b[38;5;241;43m.\u001b[39;49m\u001b[43mto_numpy\u001b[49m\u001b[43m(\u001b[49m\u001b[43mdtype\u001b[49m\u001b[38;5;241;43m=\u001b[39;49m\u001b[38;5;28;43mfloat\u001b[39;49m\u001b[43m,\u001b[49m\u001b[43m \u001b[49m\u001b[43mna_value\u001b[49m\u001b[38;5;241;43m=\u001b[39;49m\u001b[43mnp\u001b[49m\u001b[38;5;241;43m.\u001b[39;49m\u001b[43mnan\u001b[49m\u001b[43m,\u001b[49m\u001b[43m \u001b[49m\u001b[43mcopy\u001b[49m\u001b[38;5;241;43m=\u001b[39;49m\u001b[38;5;28;43;01mFalse\u001b[39;49;00m\u001b[43m)\u001b[49m\n\u001b[1;32m  11051\u001b[0m \u001b[38;5;28;01mif\u001b[39;00m method \u001b[38;5;241m==\u001b[39m \u001b[38;5;124m\"\u001b[39m\u001b[38;5;124mpearson\u001b[39m\u001b[38;5;124m\"\u001b[39m:\n\u001b[1;32m  11052\u001b[0m     correl \u001b[38;5;241m=\u001b[39m libalgos\u001b[38;5;241m.\u001b[39mnancorr(mat, minp\u001b[38;5;241m=\u001b[39mmin_periods)\n",
      "File \u001b[0;32m/Library/Frameworks/Python.framework/Versions/3.12/lib/python3.12/site-packages/pandas/core/frame.py:1993\u001b[0m, in \u001b[0;36mDataFrame.to_numpy\u001b[0;34m(self, dtype, copy, na_value)\u001b[0m\n\u001b[1;32m   1991\u001b[0m \u001b[38;5;28;01mif\u001b[39;00m dtype \u001b[38;5;129;01mis\u001b[39;00m \u001b[38;5;129;01mnot\u001b[39;00m \u001b[38;5;28;01mNone\u001b[39;00m:\n\u001b[1;32m   1992\u001b[0m     dtype \u001b[38;5;241m=\u001b[39m np\u001b[38;5;241m.\u001b[39mdtype(dtype)\n\u001b[0;32m-> 1993\u001b[0m result \u001b[38;5;241m=\u001b[39m \u001b[38;5;28;43mself\u001b[39;49m\u001b[38;5;241;43m.\u001b[39;49m\u001b[43m_mgr\u001b[49m\u001b[38;5;241;43m.\u001b[39;49m\u001b[43mas_array\u001b[49m\u001b[43m(\u001b[49m\u001b[43mdtype\u001b[49m\u001b[38;5;241;43m=\u001b[39;49m\u001b[43mdtype\u001b[49m\u001b[43m,\u001b[49m\u001b[43m \u001b[49m\u001b[43mcopy\u001b[49m\u001b[38;5;241;43m=\u001b[39;49m\u001b[43mcopy\u001b[49m\u001b[43m,\u001b[49m\u001b[43m \u001b[49m\u001b[43mna_value\u001b[49m\u001b[38;5;241;43m=\u001b[39;49m\u001b[43mna_value\u001b[49m\u001b[43m)\u001b[49m\n\u001b[1;32m   1994\u001b[0m \u001b[38;5;28;01mif\u001b[39;00m result\u001b[38;5;241m.\u001b[39mdtype \u001b[38;5;129;01mis\u001b[39;00m \u001b[38;5;129;01mnot\u001b[39;00m dtype:\n\u001b[1;32m   1995\u001b[0m     result \u001b[38;5;241m=\u001b[39m np\u001b[38;5;241m.\u001b[39masarray(result, dtype\u001b[38;5;241m=\u001b[39mdtype)\n",
      "File \u001b[0;32m/Library/Frameworks/Python.framework/Versions/3.12/lib/python3.12/site-packages/pandas/core/internals/managers.py:1694\u001b[0m, in \u001b[0;36mBlockManager.as_array\u001b[0;34m(self, dtype, copy, na_value)\u001b[0m\n\u001b[1;32m   1692\u001b[0m         arr\u001b[38;5;241m.\u001b[39mflags\u001b[38;5;241m.\u001b[39mwriteable \u001b[38;5;241m=\u001b[39m \u001b[38;5;28;01mFalse\u001b[39;00m\n\u001b[1;32m   1693\u001b[0m \u001b[38;5;28;01melse\u001b[39;00m:\n\u001b[0;32m-> 1694\u001b[0m     arr \u001b[38;5;241m=\u001b[39m \u001b[38;5;28;43mself\u001b[39;49m\u001b[38;5;241;43m.\u001b[39;49m\u001b[43m_interleave\u001b[49m\u001b[43m(\u001b[49m\u001b[43mdtype\u001b[49m\u001b[38;5;241;43m=\u001b[39;49m\u001b[43mdtype\u001b[49m\u001b[43m,\u001b[49m\u001b[43m \u001b[49m\u001b[43mna_value\u001b[49m\u001b[38;5;241;43m=\u001b[39;49m\u001b[43mna_value\u001b[49m\u001b[43m)\u001b[49m\n\u001b[1;32m   1695\u001b[0m     \u001b[38;5;66;03m# The underlying data was copied within _interleave, so no need\u001b[39;00m\n\u001b[1;32m   1696\u001b[0m     \u001b[38;5;66;03m# to further copy if copy=True or setting na_value\u001b[39;00m\n\u001b[1;32m   1698\u001b[0m \u001b[38;5;28;01mif\u001b[39;00m na_value \u001b[38;5;129;01mis\u001b[39;00m lib\u001b[38;5;241m.\u001b[39mno_default:\n",
      "File \u001b[0;32m/Library/Frameworks/Python.framework/Versions/3.12/lib/python3.12/site-packages/pandas/core/internals/managers.py:1753\u001b[0m, in \u001b[0;36mBlockManager._interleave\u001b[0;34m(self, dtype, na_value)\u001b[0m\n\u001b[1;32m   1751\u001b[0m     \u001b[38;5;28;01melse\u001b[39;00m:\n\u001b[1;32m   1752\u001b[0m         arr \u001b[38;5;241m=\u001b[39m blk\u001b[38;5;241m.\u001b[39mget_values(dtype)\n\u001b[0;32m-> 1753\u001b[0m     \u001b[43mresult\u001b[49m\u001b[43m[\u001b[49m\u001b[43mrl\u001b[49m\u001b[38;5;241;43m.\u001b[39;49m\u001b[43mindexer\u001b[49m\u001b[43m]\u001b[49m \u001b[38;5;241m=\u001b[39m arr\n\u001b[1;32m   1754\u001b[0m     itemmask[rl\u001b[38;5;241m.\u001b[39mindexer] \u001b[38;5;241m=\u001b[39m \u001b[38;5;241m1\u001b[39m\n\u001b[1;32m   1756\u001b[0m \u001b[38;5;28;01mif\u001b[39;00m \u001b[38;5;129;01mnot\u001b[39;00m itemmask\u001b[38;5;241m.\u001b[39mall():\n",
      "\u001b[0;31mValueError\u001b[0m: could not convert string to float: '30-Jul-24'"
     ]
    }
   ],
   "source": [
    "# Main execution\n",
    "if __name__ == \"__main__\":\n",
    "    filepath = \"nifty_fifty.csv\"  # Update with actual file path\n",
    "\n",
    "    # Load and process data\n",
    "    df = load_data(filepath)\n",
    "    df = preprocess_data(df)\n",
    "    df = compute_features(df)\n",
    "\n",
    "    # Store analysis results\n",
    "    analysis_results = {\n",
    "        \"Closing Price Trend\": list(zip(df['Date'].tolist(), df['Close'].tolist())),\n",
    "        \"Feature Correlation Heatmap\": df.corr().to_dict(),\n",
    "        \"Daily Return Distribution\": df['Daily Return'].tolist(),\n",
    "        \"Most Traded Days\": plot_most_traded_days(df),\n",
    "        \"Least Performing Days\": plot_least_performing_days(df)\n",
    "        \"Months the Stock was Volatile\":volatile_stocks(df)\n",
    "    }\n",
    "\n",
    "    plot_closing_price(df)\n",
    "    plot_correlation_heatmap(df)\n",
    "    plot_daily_return_distribution(df)\n",
    "print(\"\\n--- Analysis Results (Showing only first 10 rows) ---\")\n",
    "\n",
    "limited_results = {\n",
    "    key: value[:10] if isinstance(value, list) else value\n",
    "    for key, value in analysis_results.items()\n",
    "}\n",
    "\n",
    "pprint.pprint(limited_results, width=150)\n",
    "\n",
    "# Alternative JSON formatted output\n",
    "def convert_timestamp(obj):\n",
    "    \"\"\"Convert Pandas Timestamp to string format.\"\"\"\n",
    "    if isinstance(obj, pd.Timestamp):\n",
    "        return obj.strftime('%Y-%m-%d')  # Convert to string format\n",
    "    raise TypeError(f\"Type {type(obj)} not serializable\")\n",
    "\n",
    "print(json.dumps(limited_results, indent=4, default=convert_timestamp))\n",
    "\n"
   ]
  }
 ],
 "metadata": {
  "kernelspec": {
   "display_name": "Python 3",
   "language": "python",
   "name": "python3"
  },
  "language_info": {
   "codemirror_mode": {
    "name": "ipython",
    "version": 3
   },
   "file_extension": ".py",
   "mimetype": "text/x-python",
   "name": "python",
   "nbconvert_exporter": "python",
   "pygments_lexer": "ipython3",
   "version": "3.12.8"
  }
 },
 "nbformat": 4,
 "nbformat_minor": 2
}
