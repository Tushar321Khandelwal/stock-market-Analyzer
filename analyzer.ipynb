{
 "cells": [
  {
   "cell_type": "code",
   
   "execution_count": 2,
   "metadata": {},
   "outputs": [
    {
     "data": {
      "text/html": [
       "<div>\n",
       "<style scoped>\n",
       "    .dataframe tbody tr th:only-of-type {\n",
       "        vertical-align: middle;\n",
       "    }\n",
       "\n",
       "    .dataframe tbody tr th {\n",
       "        vertical-align: top;\n",
       "    }\n",
       "\n",
       "    .dataframe thead th {\n",
       "        text-align: right;\n",
       "    }\n",
       "</style>\n",
       "<table border=\"1\" class=\"dataframe\">\n",
       "  <thead>\n",
       "    <tr style=\"text-align: right;\">\n",
       "      <th></th>\n",
       "      <th>Date</th>\n",
       "      <th>Open</th>\n",
       "      <th>High</th>\n",
       "      <th>Low</th>\n",
       "      <th>Close</th>\n",
       "      <th>Shares Traded</th>\n",
       "      <th>Turnover (₹ Cr)</th>\n",
       "    </tr>\n",
       "  </thead>\n",
       "  <tbody>\n",
       "    <tr>\n",
       "      <th>0</th>\n",
       "      <td>30-Jul-24</td>\n",
       "      <td>24839.40</td>\n",
       "      <td>24971.75</td>\n",
       "      <td>24798.65</td>\n",
       "      <td>24857.30</td>\n",
       "      <td>384989431</td>\n",
       "      <td>37576.58</td>\n",
       "    </tr>\n",
       "    <tr>\n",
       "      <th>1</th>\n",
       "      <td>31-Jul-24</td>\n",
       "      <td>24886.70</td>\n",
       "      <td>24984.60</td>\n",
       "      <td>24856.50</td>\n",
       "      <td>24951.15</td>\n",
       "      <td>333646302</td>\n",
       "      <td>35411.32</td>\n",
       "    </tr>\n",
       "    <tr>\n",
       "      <th>2</th>\n",
       "      <td>1-Aug-24</td>\n",
       "      <td>25030.95</td>\n",
       "      <td>25078.30</td>\n",
       "      <td>24956.40</td>\n",
       "      <td>25010.90</td>\n",
       "      <td>431313292</td>\n",
       "      <td>38822.90</td>\n",
       "    </tr>\n",
       "    <tr>\n",
       "      <th>3</th>\n",
       "      <td>2-Aug-24</td>\n",
       "      <td>24789.00</td>\n",
       "      <td>24851.90</td>\n",
       "      <td>24686.85</td>\n",
       "      <td>24717.70</td>\n",
       "      <td>345027881</td>\n",
       "      <td>35368.54</td>\n",
       "    </tr>\n",
       "    <tr>\n",
       "      <th>4</th>\n",
       "      <td>5-Aug-24</td>\n",
       "      <td>24302.85</td>\n",
       "      <td>24350.05</td>\n",
       "      <td>23893.70</td>\n",
       "      <td>24055.60</td>\n",
       "      <td>486994718</td>\n",
       "      <td>45066.65</td>\n",
       "    </tr>\n",
       "  </tbody>\n",
       "</table>\n",
       "</div>"
      ],
      "text/plain": [
       "        Date      Open      High       Low     Close  Shares Traded  \\\n",
       "0  30-Jul-24  24839.40  24971.75  24798.65  24857.30      384989431   \n",
       "1  31-Jul-24  24886.70  24984.60  24856.50  24951.15      333646302   \n",
       "2   1-Aug-24  25030.95  25078.30  24956.40  25010.90      431313292   \n",
       "3   2-Aug-24  24789.00  24851.90  24686.85  24717.70      345027881   \n",
       "4   5-Aug-24  24302.85  24350.05  23893.70  24055.60      486994718   \n",
       "\n",
       "   Turnover (₹ Cr)  \n",
       "0         37576.58  \n",
       "1         35411.32  \n",
       "2         38822.90  \n",
       "3         35368.54  \n",
       "4         45066.65  "
      ]
     },
     "execution_count": 8,
     "metadata": {},
     "output_type": "execute_result"
    }
   ],
   "source": [
    "import pandas as pd\n",
    "\n",
    "filepath = \"nifty_fifty.csv\"  # Replace with the actual file path\n",
    "df = pd.read_csv(filepath)\n",
    "\n",
    "# Display the first few rows\n",
    "df.head()\n"
   ]
  },
  {
   "cell_type": "code",
   "execution_count": 9,
   "metadata": {},
   "outputs": [
    {
     "name": "stdout",
     "output_type": "stream",
     "text": [
      "<class 'pandas.core.frame.DataFrame'>\n",
      "RangeIndex: 127 entries, 0 to 126\n",
      "Data columns (total 7 columns):\n",
      " #   Column           Non-Null Count  Dtype  \n",
      "---  ------           --------------  -----  \n",
      " 0   Date             127 non-null    object \n",
      " 1   Open             127 non-null    float64\n",
      " 2   High             127 non-null    float64\n",
      " 3   Low              127 non-null    float64\n",
      " 4   Close            127 non-null    float64\n",
      " 5   Shares Traded    127 non-null    int64  \n",
      " 6   Turnover (₹ Cr)  127 non-null    float64\n",
      "dtypes: float64(5), int64(1), object(1)\n",
      "memory usage: 7.1+ KB\n"
     ]
    },
    {
     "data": {
      "text/html": [
       "<div>\n",
       "<style scoped>\n",
       "    .dataframe tbody tr th:only-of-type {\n",
       "        vertical-align: middle;\n",
       "    }\n",
       "\n",
       "    .dataframe tbody tr th {\n",
       "        vertical-align: top;\n",
       "    }\n",
       "\n",
       "    .dataframe thead th {\n",
       "        text-align: right;\n",
       "    }\n",
       "</style>\n",
       "<table border=\"1\" class=\"dataframe\">\n",
       "  <thead>\n",
       "    <tr style=\"text-align: right;\">\n",
       "      <th></th>\n",
       "      <th>Open</th>\n",
       "      <th>High</th>\n",
       "      <th>Low</th>\n",
       "      <th>Close</th>\n",
       "      <th>Shares Traded</th>\n",
       "      <th>Turnover (₹ Cr)</th>\n",
       "    </tr>\n",
       "  </thead>\n",
       "  <tbody>\n",
       "    <tr>\n",
       "      <th>count</th>\n",
       "      <td>127.000000</td>\n",
       "      <td>127.000000</td>\n",
       "      <td>127.000000</td>\n",
       "      <td>127.000000</td>\n",
       "      <td>1.270000e+02</td>\n",
       "      <td>127.000000</td>\n",
       "    </tr>\n",
       "    <tr>\n",
       "      <th>mean</th>\n",
       "      <td>24452.412205</td>\n",
       "      <td>24559.081890</td>\n",
       "      <td>24314.801969</td>\n",
       "      <td>24422.829528</td>\n",
       "      <td>2.891581e+08</td>\n",
       "      <td>30342.201654</td>\n",
       "    </tr>\n",
       "    <tr>\n",
       "      <th>std</th>\n",
       "      <td>745.052162</td>\n",
       "      <td>742.198116</td>\n",
       "      <td>765.005118</td>\n",
       "      <td>762.238109</td>\n",
       "      <td>8.599530e+07</td>\n",
       "      <td>10803.020195</td>\n",
       "    </tr>\n",
       "    <tr>\n",
       "      <th>min</th>\n",
       "      <td>22940.150000</td>\n",
       "      <td>23007.450000</td>\n",
       "      <td>22786.900000</td>\n",
       "      <td>22829.150000</td>\n",
       "      <td>3.881139e+07</td>\n",
       "      <td>3348.450000</td>\n",
       "    </tr>\n",
       "    <tr>\n",
       "      <th>25%</th>\n",
       "      <td>23896.825000</td>\n",
       "      <td>24077.875000</td>\n",
       "      <td>23776.075000</td>\n",
       "      <td>23895.350000</td>\n",
       "      <td>2.390233e+08</td>\n",
       "      <td>25140.035000</td>\n",
       "    </tr>\n",
       "    <tr>\n",
       "      <th>50%</th>\n",
       "      <td>24386.850000</td>\n",
       "      <td>24503.350000</td>\n",
       "      <td>24280.200000</td>\n",
       "      <td>24435.500000</td>\n",
       "      <td>2.759519e+08</td>\n",
       "      <td>28046.450000</td>\n",
       "    </tr>\n",
       "    <tr>\n",
       "      <th>75%</th>\n",
       "      <td>25024.125000</td>\n",
       "      <td>25085.850000</td>\n",
       "      <td>24890.975000</td>\n",
       "      <td>24976.625000</td>\n",
       "      <td>3.170228e+08</td>\n",
       "      <td>33111.485000</td>\n",
       "    </tr>\n",
       "    <tr>\n",
       "      <th>max</th>\n",
       "      <td>26248.250000</td>\n",
       "      <td>26277.350000</td>\n",
       "      <td>26151.400000</td>\n",
       "      <td>26216.050000</td>\n",
       "      <td>6.871728e+08</td>\n",
       "      <td>89554.910000</td>\n",
       "    </tr>\n",
       "  </tbody>\n",
       "</table>\n",
       "</div>"
      ],
      "text/plain": [
       "               Open          High           Low         Close  Shares Traded  \\\n",
       "count    127.000000    127.000000    127.000000    127.000000   1.270000e+02   \n",
       "mean   24452.412205  24559.081890  24314.801969  24422.829528   2.891581e+08   \n",
       "std      745.052162    742.198116    765.005118    762.238109   8.599530e+07   \n",
       "min    22940.150000  23007.450000  22786.900000  22829.150000   3.881139e+07   \n",
       "25%    23896.825000  24077.875000  23776.075000  23895.350000   2.390233e+08   \n",
       "50%    24386.850000  24503.350000  24280.200000  24435.500000   2.759519e+08   \n",
       "75%    25024.125000  25085.850000  24890.975000  24976.625000   3.170228e+08   \n",
       "max    26248.250000  26277.350000  26151.400000  26216.050000   6.871728e+08   \n",
       "\n",
       "       Turnover (₹ Cr)  \n",
       "count       127.000000  \n",
       "mean      30342.201654  \n",
       "std       10803.020195  \n",
       "min        3348.450000  \n",
       "25%       25140.035000  \n",
       "50%       28046.450000  \n",
       "75%       33111.485000  \n",
       "max       89554.910000  "
      ]
     },
     "execution_count": 9,
     "metadata": {},
     "output_type": "execute_result"
    }
   ],
   "source": [
    "\n",
    "df.info()\n",
    "\n",
    "df.describe()\n"
   ]
  },
  {
   "cell_type": "code",
   "execution_count": 10,
   "metadata": {},
   "outputs": [
    {
     "name": "stdout",
     "output_type": "stream",
     "text": [
      "Missing Values:\n",
      " Date               0\n",
      "Open               0\n",
      "High               0\n",
      "Low                0\n",
      "Close              0\n",
      "Shares Traded      0\n",
      "Turnover (₹ Cr)    0\n",
      "dtype: int64\n"
     ]
    }
   ],
   "source": [
    "# Check for missing values\n",
    "missing_values = df.isnull().sum()\n",
    "print(\"Missing Values:\\n\", missing_values)\n",
    "\n",
    "# Drop rows with missing values\n",
    "df.dropna(inplace=True)\n",
    "\n",
    "# Alternatively, fill missing values if appropriate (example: forward-fill method)\n",
    "# df.fillna(method='ffill', inplace=True)\n"
   ]
  },
  {
   "cell_type": "code",
   "execution_count": 11,
   "metadata": {},
   "outputs": [],
   "source": [
    "df['Daily Change %'] = ((df['Close'] - df['Open']) / df['Open']) * 100\n"
   ]
  },
  {
   "cell_type": "code",
   "execution_count": 12,
   "metadata": {},
   "outputs": [
    {
     "data": {
      "text/plain": [
       "count    127.000000\n",
       "mean      -0.121070\n",
       "std        0.656901\n",
       "min       -1.787214\n",
       "25%       -0.477864\n",
       "50%       -0.090134\n",
       "75%        0.250164\n",
       "max        2.116241\n",
       "Name: Daily Change %, dtype: float64"
      ]
     },
     "execution_count": 12,
     "metadata": {},
     "output_type": "execute_result"
    }
   ],
   "source": [
    "# Summary statistics of Daily Change %\n",
    "df['Daily Change %'].describe()\n"
   ]
  },
  {
   "cell_type": "code",
   "execution_count": 14,
   "metadata": {},
   "outputs": [
    {
     "name": "stdout",
     "output_type": "stream",
     "text": [
      "Available Columns: Index(['Date', 'Open', 'High', 'Low', 'Close', 'Shares Traded',\n",
      "       'Turnover (₹ Cr)', 'Daily Change %'],\n",
      "      dtype='object')\n"
     ]
    }
   ],
   "source": [
    "print(\"Available Columns:\", df.columns)\n"
   ]
  }
 ],
 "metadata": {
  "kernelspec": {
   "display_name": "Python 3",
   "language": "python",
   "name": "python3"
  },
  "language_info": {
   "codemirror_mode": {
    "name": "ipython",
    "version": 3
   },
   "file_extension": ".py",
   "mimetype": "text/x-python",
   "name": "python",
   "nbconvert_exporter": "python",
   "pygments_lexer": "ipython3",
   "version": "3.12.8"
  }
 },
 "nbformat": 4,
 "nbformat_minor": 2
}
